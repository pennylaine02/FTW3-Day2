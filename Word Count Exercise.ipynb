{
 "cells": [
  {
   "cell_type": "code",
   "execution_count": 1,
   "metadata": {},
   "outputs": [
    {
     "name": "stdout",
     "output_type": "stream",
     "text": [
      "Nilibot : 1\n",
      "na : 7\n",
      "ang : 1\n",
      "buong : 1\n",
      "mundo : 1\n",
      "Di : 1\n",
      "pa : 2\n",
      "rin : 1\n",
      "ako : 2\n",
      "nakukuntento : 1\n",
      "Makakahanap : 1\n",
      "ng : 1\n",
      "ipapalit : 1\n",
      "Nang : 1\n",
      "walang : 1\n",
      "babala : 1\n",
      "Lumipas : 1\n",
      "ay : 2\n",
      "nagbabalik : 1\n",
      "pala : 2\n",
      "Nalilito : 1\n",
      "hindi : 1\n",
      "dapat : 1\n",
      "ganito : 1\n",
      "Nakaraan : 1\n",
      "natapos : 1\n",
      "at : 1\n",
      "napagdaanan : 1\n",
      "Bakit : 1\n",
      "sisindak : 1\n",
      "sa : 1\n",
      "tuwing : 1\n",
      "naaalala : 1\n",
      "Matatauhan : 1\n",
      "wala : 1\n",
      "ka : 1\n",
      " : 1\n"
     ]
    }
   ],
   "source": [
    "import re\n",
    "string = \"\"\"Nilibot na ang buong mundo\n",
    "Di pa rin ako nakukuntento\n",
    "Makakahanap ng ipapalit\n",
    "Nang walang babala\n",
    "Lumipas ay nagbabalik pala\n",
    "\n",
    "Nalilito na ako hindi na dapat ganito\n",
    "Nakaraan ay natapos at napagdaanan na\n",
    "Bakit na sisindak pa sa tuwing naaalala\n",
    "Matatauhan na wala ka na pala\n",
    "\"\"\"\n",
    "splitted_string = re.split('\\W+', string)\n",
    "\n",
    "\n",
    "count = {}\n",
    "for w in splitted_string :\n",
    "    if w in count:\n",
    "        count[w] += 1\n",
    "    else:\n",
    "        count[w] = 1\n",
    "for word, times in count.items():\n",
    "    print(\"{} : {}\".format(word, times))"
   ]
  }
 ],
 "metadata": {
  "kernelspec": {
   "display_name": "Python 3",
   "language": "python",
   "name": "python3"
  },
  "language_info": {
   "codemirror_mode": {
    "name": "ipython",
    "version": 3
   },
   "file_extension": ".py",
   "mimetype": "text/x-python",
   "name": "python",
   "nbconvert_exporter": "python",
   "pygments_lexer": "ipython3",
   "version": "3.7.4"
  }
 },
 "nbformat": 4,
 "nbformat_minor": 2
}
